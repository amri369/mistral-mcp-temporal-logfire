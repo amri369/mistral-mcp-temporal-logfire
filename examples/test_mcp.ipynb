{
 "cells": [
  {
   "metadata": {
    "ExecuteTime": {
     "end_time": "2025-10-14T12:21:22.914030Z",
     "start_time": "2025-10-14T12:21:22.664021Z"
    }
   },
   "cell_type": "code",
   "source": [
    "from dotenv import load_dotenv\n",
    "load_dotenv()\n",
    "from config import settings"
   ],
   "id": "878b11f9e6c0bcc2",
   "outputs": [],
   "execution_count": 1
  },
  {
   "metadata": {
    "ExecuteTime": {
     "end_time": "2025-10-14T12:21:33.225580Z",
     "start_time": "2025-10-14T12:21:31.783474Z"
    }
   },
   "cell_type": "code",
   "source": [
    "from agents.base import create_agent_async\n",
    "from agents.agents_params import AGENTS_PARAMS\n",
    "\n",
    "mcp_server_url = settings.financials_mcp_url\n",
    "\n",
    "search_agent = await create_agent_async(\n",
    "    AGENTS_PARAMS[\"SEARCH\"]\n",
    ")"
   ],
   "id": "2180c9e8e05de833",
   "outputs": [
    {
     "name": "stdout",
     "output_type": "stream",
     "text": [
      "2025-10-14 16:21:32 | INFO     | httpx | _client.py:1740 | _send_single_request | HTTP Request: POST http://localhost:9000/financials/mcp \"HTTP/1.1 200 OK\"\n",
      "2025-10-14 16:21:32 | INFO     | mcp.client.streamable_http | streamable_http.py:134 | _maybe_extract_session_id_from_response | Received session ID: 7357851eca32420b8e3f710968d9ff1f\n",
      "2025-10-14 16:21:32 | INFO     | mcp.client.streamable_http | streamable_http.py:146 | _maybe_extract_protocol_version_from_message | Negotiated protocol version: 2025-06-18\n",
      "2025-10-14 16:21:32 | INFO     | agents.base | base.py:22 | get_prompt | Connected with session ID: 7357851eca32420b8e3f710968d9ff1f\n",
      "2025-10-14 16:21:32 | INFO     | httpx | _client.py:1740 | _send_single_request | HTTP Request: POST http://localhost:9000/financials/mcp \"HTTP/1.1 202 Accepted\"\n",
      "2025-10-14 16:21:32 | INFO     | httpx | _client.py:1740 | _send_single_request | HTTP Request: GET http://localhost:9000/financials/mcp \"HTTP/1.1 200 OK\"\n",
      "2025-10-14 16:21:32 | INFO     | httpx | _client.py:1740 | _send_single_request | HTTP Request: POST http://localhost:9000/financials/mcp \"HTTP/1.1 200 OK\"\n",
      "2025-10-14 16:21:32 | INFO     | agents.base | base.py:28 | get_prompt | Available prompts: ['financials_prompt', 'planner_prompt', 'risk_prompt', 'search_prompt', 'verifier_prompt', 'writer_prompt']\n",
      "2025-10-14 16:21:32 | INFO     | httpx | _client.py:1740 | _send_single_request | HTTP Request: POST http://localhost:9000/financials/mcp \"HTTP/1.1 200 OK\"\n",
      "2025-10-14 16:21:32 | INFO     | httpx | _client.py:1740 | _send_single_request | HTTP Request: DELETE http://localhost:9000/financials/mcp \"HTTP/1.1 200 OK\"\n",
      "2025-10-14 16:21:33 | INFO     | httpx | _client.py:1740 | _send_single_request | HTTP Request: POST https://api.mistral.ai/v1/agents \"HTTP/1.1 200 OK\"\n",
      "2025-10-14 16:21:33 | INFO     | agents.base | base.py:68 | create_agent_async | Created Mistral agent 'FinancialSearchAgent' (id: ag_0199e2ab2dcb7222be868bd12522e3ba)\n"
     ]
    }
   ],
   "execution_count": 2
  },
  {
   "metadata": {
    "ExecuteTime": {
     "end_time": "2025-10-14T11:07:16.176639Z",
     "start_time": "2025-10-14T11:07:01.359386Z"
    }
   },
   "cell_type": "code",
   "source": [
    "import os\n",
    "from mistralai import Mistral\n",
    "\n",
    "api_key = os.environ[\"MISTRAL_API_KEY\"]\n",
    "client = Mistral(api_key)\n",
    "\n",
    "response = await client.beta.conversations.start_async(\n",
    "        agent_id=search_agent.id,\n",
    "        inputs=\"Mistral AI financial ratios and metrics\",\n",
    ")"
   ],
   "id": "79006c62d25bbd8e",
   "outputs": [
    {
     "name": "stdout",
     "output_type": "stream",
     "text": [
      "2025-10-14 15:07:16 | INFO     | httpx | _client.py:1740 | _send_single_request | HTTP Request: POST https://api.mistral.ai/v1/conversations \"HTTP/1.1 200 OK\"\n"
     ]
    }
   ],
   "execution_count": 4
  },
  {
   "metadata": {
    "ExecuteTime": {
     "end_time": "2025-10-14T11:07:30.698138Z",
     "start_time": "2025-10-14T11:07:30.695297Z"
    }
   },
   "cell_type": "code",
   "source": "response",
   "id": "773da3c01b5a7d90",
   "outputs": [
    {
     "data": {
      "text/plain": [
       "ConversationResponse(conversation_id='conv_0199e266f2f973c583f066ae78260859', outputs=[ToolExecutionEntry(name='web_search', arguments='{\"query\": \"Mistral AI financial ratios and metrics\"}', object='entry', type='tool.execution', created_at=datetime.datetime(2025, 10, 14, 11, 7, 3, 407592, tzinfo=TzInfo(UTC)), completed_at=datetime.datetime(2025, 10, 14, 11, 7, 4, 590311, tzinfo=TzInfo(UTC)), id='tool_exec_0199e266f96f735b91070ec4a3bac23c', info={}), MessageOutputEntry(content='{\"summary\": \"Mistral AI, a prominent French AI startup headquartered in Paris, has shown significant financial growth and attracted substantial investments since its inception in 2023. As of 2025, the company\\'s valuation has surged to over $14 billion, marking a notable increase from its previous valuations of $6.2 billion in June 2024 and $2 billion in December 2023. This substantial growth in valuation underscores the company\\'s rapid expansion and the increasing confidence of investors in its potential. Mistral AI has successfully raised approximately $2.71 billion over eight funding rounds, with the latest Series C funding round in September 2025 securing $1.52 billion. This funding has been pivotal in advancing the company\\'s research and development efforts, particularly in the field of large language models (LLMs). Revenue has also seen a consistent upward trajectory, with the company reporting $60 million in 2025, up from $42 million in 2024 and $10 million in 2023. This revenue growth reflects Mistral AI\\'s expanding user base and the increasing adoption of its AI solutions across various industries. The company employs 276 people and continues to focus on developing reliable, interpretable, and steerable AI systems, with its first product being Claude, an AI assistant designed for a wide range of tasks.\"}', object='entry', type='message.output', created_at=datetime.datetime(2025, 10, 14, 11, 7, 4, 918254, tzinfo=TzInfo(UTC)), completed_at=datetime.datetime(2025, 10, 14, 11, 7, 16, 119242, tzinfo=TzInfo(UTC)), id='msg_0199e266ff567494816a2fbe07a39ef3', agent_id='ag_0199e2656bdf719c9c289955275967a9', model='mistral-medium-2505', role='assistant')], usage=ConversationUsageInfo(prompt_tokens=227, completion_tokens=317, total_tokens=3498, connector_tokens=2954, connectors={'web_search': 1}), object='conversation.response')"
      ]
     },
     "execution_count": 5,
     "metadata": {},
     "output_type": "execute_result"
    }
   ],
   "execution_count": 5
  },
  {
   "metadata": {},
   "cell_type": "code",
   "outputs": [],
   "execution_count": null,
   "source": "",
   "id": "f5bfb7cb9e528086"
  }
 ],
 "metadata": {
  "kernelspec": {
   "display_name": "Python 3",
   "language": "python",
   "name": "python3"
  },
  "language_info": {
   "codemirror_mode": {
    "name": "ipython",
    "version": 2
   },
   "file_extension": ".py",
   "mimetype": "text/x-python",
   "name": "python",
   "nbconvert_exporter": "python",
   "pygments_lexer": "ipython2",
   "version": "2.7.6"
  }
 },
 "nbformat": 4,
 "nbformat_minor": 5
}
