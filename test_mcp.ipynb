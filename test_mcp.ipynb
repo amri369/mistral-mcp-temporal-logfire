{
 "cells": [
  {
   "metadata": {
    "ExecuteTime": {
     "end_time": "2025-10-13T11:18:39.545009Z",
     "start_time": "2025-10-13T11:18:39.292653Z"
    }
   },
   "cell_type": "code",
   "source": [
    "from dotenv import load_dotenv\n",
    "load_dotenv()\n",
    "from config import settings"
   ],
   "id": "878b11f9e6c0bcc2",
   "outputs": [],
   "execution_count": 1
  },
  {
   "metadata": {
    "ExecuteTime": {
     "end_time": "2025-10-13T11:18:41.447208Z",
     "start_time": "2025-10-13T11:18:40.063666Z"
    }
   },
   "cell_type": "code",
   "source": [
    "from models.agents import MistralAgentParams, AgentRunInputModel\n",
    "from models.structured_output import get_mistral_response_format\n",
    "from agents.base import create_agent_async, run_agent_async\n",
    "\n",
    "mcp_server_url = f\"{settings.mcp_server_url}/financials/mcp\"\n",
    "response_format = get_mistral_response_format(\"AnalysisSummary\")\n",
    "\n",
    "verifier_agent = await create_agent_async(\n",
    "    MistralAgentParams(\n",
    "        model=\"mistral-medium-2505\",\n",
    "        name=\"Verifier Agent\",\n",
    "        description=\"Agent to Verify Facts\",\n",
    "        mcp_server_url=mcp_server_url,\n",
    "        prompt_name=\"verifier_prompt\",\n",
    "        response_format=\"VerificationResult\"\n",
    "    )\n",
    ")"
   ],
   "id": "2180c9e8e05de833",
   "outputs": [
    {
     "name": "stdout",
     "output_type": "stream",
     "text": [
      "2025-10-13 15:18:40 | INFO     | httpx | _client.py:1740 | _send_single_request | HTTP Request: POST http://localhost:9000/financials/mcp \"HTTP/1.1 200 OK\"\n",
      "2025-10-13 15:18:40 | INFO     | mcp.client.streamable_http | streamable_http.py:134 | _maybe_extract_session_id_from_response | Received session ID: 363bb8edaa444707b63df77cd5793dce\n",
      "2025-10-13 15:18:40 | INFO     | mcp.client.streamable_http | streamable_http.py:146 | _maybe_extract_protocol_version_from_message | Negotiated protocol version: 2025-06-18\n",
      "2025-10-13 15:18:40 | INFO     | agents.base | base.py:23 | get_prompt | Connected with session ID: 363bb8edaa444707b63df77cd5793dce\n",
      "2025-10-13 15:18:40 | INFO     | httpx | _client.py:1740 | _send_single_request | HTTP Request: POST http://localhost:9000/financials/mcp \"HTTP/1.1 202 Accepted\"\n",
      "2025-10-13 15:18:40 | INFO     | httpx | _client.py:1740 | _send_single_request | HTTP Request: GET http://localhost:9000/financials/mcp \"HTTP/1.1 200 OK\"\n",
      "2025-10-13 15:18:40 | INFO     | httpx | _client.py:1740 | _send_single_request | HTTP Request: POST http://localhost:9000/financials/mcp \"HTTP/1.1 200 OK\"\n",
      "2025-10-13 15:18:40 | INFO     | agents.base | base.py:29 | get_prompt | Available prompts: ['financials_prompt', 'planner_prompt', 'risk_prompt', 'search_prompt', 'verifier_prompt', 'writer_prompt']\n",
      "2025-10-13 15:18:40 | INFO     | httpx | _client.py:1740 | _send_single_request | HTTP Request: POST http://localhost:9000/financials/mcp \"HTTP/1.1 200 OK\"\n",
      "2025-10-13 15:18:41 | INFO     | httpx | _client.py:1740 | _send_single_request | HTTP Request: DELETE http://localhost:9000/financials/mcp \"HTTP/1.1 200 OK\"\n",
      "2025-10-13 15:18:41 | INFO     | httpx | _client.py:1740 | _send_single_request | HTTP Request: POST https://api.mistral.ai/v1/agents \"HTTP/1.1 200 OK\"\n",
      "2025-10-13 15:18:41 | INFO     | agents.base | base.py:69 | create_agent_async | Created Mistral agent 'Verifier Agent' (id: ag_0199dd4b447a763baf44365447893bdd)\n"
     ]
    }
   ],
   "execution_count": 2
  },
  {
   "metadata": {
    "ExecuteTime": {
     "end_time": "2025-10-13T11:18:41.557365Z",
     "start_time": "2025-10-13T11:18:41.554914Z"
    }
   },
   "cell_type": "code",
   "source": [
    "news = \"\"\"\n",
    "Classified : Public\n",
    "Market\n",
    "Insights &\n",
    "Strategy\n",
    "Global Markets\n",
    "October 2nd, 2025\n",
    "Please click here to view our recent\n",
    "publications on MENA and Global Markets\n",
    "Your attention is drawn to the Important Notice on\n",
    "the final page of this communication\n",
    "Simon Ballard\n",
    "Chief Economist\n",
    "Almaha Al Nuaimi\n",
    "Analyst\n",
    "GCC & Egypt Macro Weekly\n",
    "Money, money, money, must be funny…\n",
    "Global markets’ focus this week, in a rich man’s world or otherwise, has been firmly\n",
    "trained on one location; Washington DC. More precisely, the world has been\n",
    "watching every bipartisan move and dysfunctional dynamic as everything, but\n",
    "essential U.S. government daily tasks have been shuttered as cash ran out and the\n",
    "latest U.S. Treasury funding crisis evolved. Unsurprisingly, this has fuelled an anti-\n",
    "U.S. bias across global markets and put renewed downside pressures on the USD.\n",
    "Such a scenario of government activities being mothballed is not unique in history,\n",
    "but this is the first time in nearly seven years that U.S. government finances have\n",
    "been pushed to this extreme. The shuttering of all but essential duties carries with\n",
    "it worrying implications across a broad array of federal economic, monetary, and\n",
    "fiscal activities. Perhaps most concerning is that the spectre of a prolonged\n",
    "shutdown would be an impediment to the release of critical economic data and\n",
    "disrupt our reading of both economic performance as well the (Fed’s) rates outlook.\n",
    "If no funding deal is forthcoming in the coming days and the shutdown persists, the\n",
    "most immediate concern for global markets could be tomorrow’s (Friday) labour\n",
    "market – nonfarm payrolls – report that could potentially have to be delayed,\n",
    "postponed, or cancelled. Indeed, the Department of Labor has previously confirmed\n",
    "that the Bureau of Labor Statistics (BLS) would suspend all operations during a\n",
    "shutdown, including data collection and publication.\n",
    "As we know, the labour market is a key element of the Fed’s dual mandate and jobs\n",
    "data directly contributes to the pricing of future interest rate expectations. Moreover,\n",
    "in wider terms, we have discussed the increasingly data-dependent nature of the\n",
    "global economic outlook in recent months and markets’ heightened sensitivity to,\n",
    "and reliance on, timely and reliable macro releases for gauging direction. Until a\n",
    "funding truce is struck, therefore, and the macro data transmission process is\n",
    "restored, we are cognisant of how nervous and volatile the market could become.\n",
    "Closer to home our attention is now also on tomorrow’s (Friday) September\n",
    "Purchasing Managers Index (PMI) releases for the United Arab Emirates and\n",
    "Dubai, followed on Sunday by the same for Saudi Arabia and Qatar. Both the UAE\n",
    "and Dubai PMIs are scheduled for publication at 8.15am GST tomorrow. The UAE\n",
    "PMI came in at 53.3 in August and Dubai’s PMI was a respectable 53.6 for the\n",
    "same month. With the pan-GCC PMIs having largely held firmly above 50 (in\n",
    "economic expansion territory) since late 2020 - albeit with just a couple of brief\n",
    "exceptions by Qatar – and in the context of the consistent nature of recent robust\n",
    "economic performance across the region, we are hopefully that the PMIs will again\n",
    "reflect robust economic conditions in the latest month.\n",
    "While we saw evidence of less favourable supply chain conditions in the August\n",
    "UAE PMI calculation, with delivery times recording the smallest improvement in\n",
    "nearly four years, and increased wage inflation leading to the fastest uplift in\n",
    "average cost burdens since February, the local economy improved despite the\n",
    "challenges. We are hopeful that the September reading will also register continued\n",
    "expansion in output levels and show output expectations having improved\n",
    "optimistically again last month.\n",
    "As such, notwithstanding the current global economic headwinds that we face, the\n",
    "UAE's business environment is clearly supported by a stable institutional framework\n",
    "and its strategic government initiatives. We believe that all of this positive narrative\n",
    "remains entwined in the buoyant PMI readings, as well as the very strong foreign\n",
    "direct investment (FDI) that we have seen coming into the region in recent years.\n",
    "As we have shown previously, the UAE economy is not only benefiting from a\n",
    "financial inflows perspective but has also become far more globally competitive in\n",
    "the past 5 years or so, both in terms of business efficiency ranking (from 17th in\n",
    "2022 the UAE has improved to 3rd in 2025 according to IMD World\n",
    "Competitiveness Index) and global economic performance ranking (UAE has\n",
    "improved from 9th in 2021 to 2nd this year, 2025).\n",
    "\"\"\""
   ],
   "id": "843eb537325ad5e4",
   "outputs": [],
   "execution_count": 3
  },
  {
   "metadata": {
    "ExecuteTime": {
     "end_time": "2025-10-13T11:18:47.180445Z",
     "start_time": "2025-10-13T11:18:42.426094Z"
    }
   },
   "cell_type": "code",
   "source": [
    "import os\n",
    "from mistralai import Mistral\n",
    "\n",
    "api_key = os.environ[\"MISTRAL_API_KEY\"]\n",
    "client = Mistral(api_key)\n",
    "\n",
    "response = await run_agent_async(\n",
    "    AgentRunInputModel(\n",
    "        id=verifier_agent.id,\n",
    "        inputs=news,\n",
    "        response_format=\"VerificationResult\"\n",
    "    )\n",
    ")"
   ],
   "id": "79006c62d25bbd8e",
   "outputs": [
    {
     "name": "stdout",
     "output_type": "stream",
     "text": [
      "2025-10-13 15:18:47 | INFO     | httpx | _client.py:1740 | _send_single_request | HTTP Request: POST https://api.mistral.ai/v1/conversations \"HTTP/1.1 200 OK\"\n"
     ]
    }
   ],
   "execution_count": 4
  },
  {
   "metadata": {
    "ExecuteTime": {
     "end_time": "2025-10-13T11:18:48.064620Z",
     "start_time": "2025-10-13T11:18:48.060974Z"
    }
   },
   "cell_type": "code",
   "source": "response",
   "id": "773da3c01b5a7d90",
   "outputs": [
    {
     "data": {
      "text/plain": [
       "VerificationResult(verified=False, issues=\"The report is generally well-sourced and internally consistent, but there are a few points that need clarification or additional support: \\n1. The report mentions that the UAE's business environment is supported by a stable institutional framework and strategic government initiatives. While this is likely true, no specific sources or examples are provided to support this claim.\\n\\n2. The report states that the UAE has become far more globally competitive in the past five years, citing improvements in the IMD World Competitiveness Index and global economic performance ranking. However, the specific sources or reports for these rankings are not cited.\\n\\n3. The report expresses hope that the September PMI readings will reflect robust economic conditions and continued expansion in output levels. While this is a reasonable expectation based on previous data, it is still a forward-looking statement that should be clearly marked as such.\\n\\n4. The report does not provide specific sources for the August PMI data for the UAE and Dubai, nor does it provide a source for the claim that Qatar's PMI has briefly fallen below 50 a couple of times since late 2020.\\n\\n5. The report mentions increased wage inflation leading to the fastest uplift in average cost burdens since February. No source or additional data is provided to support this claim.\")"
      ]
     },
     "execution_count": 5,
     "metadata": {},
     "output_type": "execute_result"
    }
   ],
   "execution_count": 5
  },
  {
   "metadata": {
    "ExecuteTime": {
     "end_time": "2025-10-13T10:58:12.012467Z",
     "start_time": "2025-10-13T10:58:11.996521Z"
    }
   },
   "cell_type": "code",
   "source": "verifier_agent",
   "id": "f8b1dd9d9c2a7ca9",
   "outputs": [
    {
     "data": {
      "text/plain": [
       "AgentBaseParams(id='ag_0199dd0619c172e492e386e1e3ada51c')"
      ]
     },
     "execution_count": 5,
     "metadata": {},
     "output_type": "execute_result"
    }
   ],
   "execution_count": 5
  },
  {
   "metadata": {},
   "cell_type": "code",
   "outputs": [],
   "execution_count": null,
   "source": "",
   "id": "87c4ab3eb13b6118"
  }
 ],
 "metadata": {
  "kernelspec": {
   "display_name": "Python 3",
   "language": "python",
   "name": "python3"
  },
  "language_info": {
   "codemirror_mode": {
    "name": "ipython",
    "version": 2
   },
   "file_extension": ".py",
   "mimetype": "text/x-python",
   "name": "python",
   "nbconvert_exporter": "python",
   "pygments_lexer": "ipython2",
   "version": "2.7.6"
  }
 },
 "nbformat": 4,
 "nbformat_minor": 5
}
